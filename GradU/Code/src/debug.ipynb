{
 "cells": [
  {
   "cell_type": "code",
   "execution_count": 35,
   "metadata": {},
   "outputs": [],
   "source": [
    "import numpy as np\n",
    "from math import sin, pi, cos\n",
    "\n",
    "h = 1. / 19.\n"
   ]
  },
  {
   "cell_type": "code",
   "execution_count": 42,
   "metadata": {},
   "outputs": [],
   "source": [
    "def LAMBDAop_x(h):\n",
    "    def L(u, i, j):\n",
    "        return -(u(i+1, j) - 2 * u(i, j) + u(i-1, j)) / (h**2) \n",
    "    return L "
   ]
  },
  {
   "cell_type": "code",
   "execution_count": 43,
   "metadata": {},
   "outputs": [],
   "source": [
    "def LAMBDAop_y(h):\n",
    "    def L(u, i, j):\n",
    "        return -(u(i, j+1) - 2 * u(i, j) + u(i, j+1)) / (h**2) \n",
    "    return L "
   ]
  },
  {
   "cell_type": "code",
   "execution_count": 59,
   "metadata": {},
   "outputs": [],
   "source": [
    "Lx = LAMBDAop_x(h)\n",
    "Ly = LAMBDAop_y(h)"
   ]
  },
  {
   "cell_type": "code",
   "execution_count": 62,
   "metadata": {},
   "outputs": [
    {
     "data": {
      "text/plain": [
       "9.847138943234418"
      ]
     },
     "execution_count": 62,
     "metadata": {},
     "output_type": "execute_result"
    }
   ],
   "source": [
    "n, m = 3, 2\n",
    "\n",
    "Lx(lambda i, j: sin(pi * i* h), n, m) / sin(pi * n * h) "
   ]
  },
  {
   "cell_type": "code",
   "execution_count": 61,
   "metadata": {},
   "outputs": [
    {
     "data": {
      "text/plain": [
       "9.847138943234485"
      ]
     },
     "execution_count": 61,
     "metadata": {},
     "output_type": "execute_result"
    }
   ],
   "source": [
    " (2 / (h**2) * (1 - cos(pi * 1 * h)))"
   ]
  },
  {
   "cell_type": "code",
   "execution_count": 63,
   "metadata": {},
   "outputs": [
    {
     "data": {
      "text/plain": [
       "7.999999999999998"
      ]
     },
     "execution_count": 63,
     "metadata": {},
     "output_type": "execute_result"
    }
   ],
   "source": [
    "h = 0.5\n",
    "\n",
    "4 / (h**2) * sin(pi * h * 0.5)**2"
   ]
  },
  {
   "cell_type": "code",
   "execution_count": 64,
   "metadata": {},
   "outputs": [
    {
     "data": {
      "text/plain": [
       "0.058823529411764705"
      ]
     },
     "execution_count": 64,
     "metadata": {},
     "output_type": "execute_result"
    }
   ],
   "source": [
    "1/ 17"
   ]
  },
  {
   "cell_type": "code",
   "execution_count": 6,
   "metadata": {},
   "outputs": [],
   "source": [
    "def u(x, y):\n",
    "    return sin(pi * x) * sin(pi * y) if (x >= 0 and y >= 0 and x <= 1. and y <= 1.) else 0\n",
    "\n",
    "def U(i, j): return u((i-1) * h, (j-1)*h)\n",
    "\n",
    "def b(i, j):\n",
    "    return U(i, j) * (1 / tau + 4 / (h**2)) - (U(i+1, j) + U(i, j+1) + U(i, j-1) + U(i-1, j)) / (h**2) if (i >= 2 and j >= 2 and i <= 2 and j <= 2) else 0"
   ]
  },
  {
   "cell_type": "code",
   "execution_count": 9,
   "metadata": {},
   "outputs": [
    {
     "data": {
      "text/plain": [
       "0.10542974530180318"
      ]
     },
     "execution_count": 9,
     "metadata": {},
     "output_type": "execute_result"
    }
   ],
   "source": [
    "U(3, 3)"
   ]
  },
  {
   "cell_type": "code",
   "execution_count": 98,
   "metadata": {},
   "outputs": [
    {
     "name": "stdout",
     "output_type": "stream",
     "text": [
      "0   0\n",
      "1   0\n",
      "2   0\n",
      "3   0\n",
      "4   26.0\n",
      "5   0\n",
      "6   0\n",
      "7   0\n",
      "8   0\n"
     ]
    }
   ],
   "source": [
    "for i in range(3):\n",
    "    for j in range(3):\n",
    "        print(i*3 + j, \" \", b(i+1, j+1))"
   ]
  },
  {
   "cell_type": "code",
   "execution_count": 1,
   "metadata": {},
   "outputs": [],
   "source": [
    "from math import cos, pi\n",
    "\n",
    "def lambd(tau, h, n):\n",
    "    N = 1. / h + 1\n",
    "    return 1. / tau - 2. * N**2 * (cos(pi * n / N) - 1)"
   ]
  },
  {
   "cell_type": "code",
   "execution_count": 3,
   "metadata": {},
   "outputs": [
    {
     "data": {
      "text/plain": [
       "20.999999999999996"
      ]
     },
     "execution_count": 3,
     "metadata": {},
     "output_type": "execute_result"
    }
   ],
   "source": [
    "lambd(1., 0.5, 1) * 2 + 1"
   ]
  },
  {
   "cell_type": "code",
   "execution_count": 4,
   "metadata": {},
   "outputs": [
    {
     "data": {
      "text/plain": [
       "0.047619047619047616"
      ]
     },
     "execution_count": 4,
     "metadata": {},
     "output_type": "execute_result"
    }
   ],
   "source": [
    "1 / 21"
   ]
  },
  {
   "cell_type": "code",
   "execution_count": 71,
   "metadata": {},
   "outputs": [
    {
     "name": "stdout",
     "output_type": "stream",
     "text": [
      "0   0.0\n",
      "1   0.0\n",
      "2   0.0\n",
      "3   0.0\n",
      "4   0.0\n",
      "5   0.7499999999999999\n",
      "6   0.75\n",
      "7   1.0605752387249068e-16\n",
      "8   0.0\n",
      "9   0.75\n",
      "10   0.7500000000000001\n",
      "11   1.0605752387249069e-16\n",
      "12   0.0\n",
      "13   1.0605752387249068e-16\n",
      "14   1.0605752387249069e-16\n",
      "15   1.4997597826618576e-32\n"
     ]
    }
   ],
   "source": [
    "for i in range(4):\n",
    "    for j in range(4):\n",
    "        print(i*4 + j, \" \", U(i+1, j+1))"
   ]
  }
 ],
 "metadata": {
  "kernelspec": {
   "display_name": "Python 3",
   "language": "python",
   "name": "python3"
  },
  "language_info": {
   "codemirror_mode": {
    "name": "ipython",
    "version": 3
   },
   "file_extension": ".py",
   "mimetype": "text/x-python",
   "name": "python",
   "nbconvert_exporter": "python",
   "pygments_lexer": "ipython3",
   "version": "3.10.12"
  }
 },
 "nbformat": 4,
 "nbformat_minor": 2
}
