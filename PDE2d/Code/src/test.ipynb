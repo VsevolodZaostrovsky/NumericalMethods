{
 "cells": [
  {
   "cell_type": "code",
   "execution_count": 5,
   "metadata": {},
   "outputs": [],
   "source": [
    "import numpy as np\n",
    "import matplotlib.pyplot as plt\n",
    "from math import sin, pi, exp"
   ]
  },
  {
   "cell_type": "code",
   "execution_count": 6,
   "metadata": {},
   "outputs": [],
   "source": [
    "h_x = 0.25\n",
    "tau = 0.2\n",
    "\n",
    "def u_next(u):\n",
    "    return u / ((8 / h_x**2 * sin(pi * h_x * 0.5)**2)*tau + 1 )"
   ]
  },
  {
   "cell_type": "code",
   "execution_count": 7,
   "metadata": {},
   "outputs": [
    {
     "data": {
      "text/plain": [
       "[<matplotlib.lines.Line2D at 0x7b321b9d0a90>]"
      ]
     },
     "execution_count": 7,
     "metadata": {},
     "output_type": "execute_result"
    },
    {
     "data": {
      "image/png": "[encoded data removed]",
      "text/plain": [
       "<Figure size 640x480 with 1 Axes>"
      ]
     },
     "metadata": {},
     "output_type": "display_data"
    }
   ],
   "source": [
    "answers = np.zeros((int(1 / tau), ))\n",
    "answers[0] = 1\n",
    "for i in range(1, len(answers)):\n",
    "    answers[i] = u_next(answers[i - 1])\n",
    "\n",
    "net = np.linspace(0, 1, len(answers))\n",
    "plt.plot(net, answers)\n",
    "plt.plot(net, np.exp(-2 * net * pi**2))"
   ]
  },
  {
   "cell_type": "code",
   "execution_count": 8,
   "metadata": {},
   "outputs": [
    {
     "data": {
      "text/plain": [
       "array([1.        , 0.21056917, 0.04433938, 0.00933651, 0.00196598])"
      ]
     },
     "execution_count": 8,
     "metadata": {},
     "output_type": "execute_result"
    }
   ],
   "source": [
    "answers"
   ]
  },
  {
   "cell_type": "code",
   "execution_count": 31,
   "metadata": {},
   "outputs": [
    {
     "data": {
      "text/plain": [
       "array([0.        , 0.01010101, 0.02020202, 0.03030303, 0.04040404,\n",
       "       0.05050505, 0.06060606, 0.07070707, 0.08080808, 0.09090909,\n",
       "       0.1010101 , 0.11111111, 0.12121212, 0.13131313, 0.14141414,\n",
       "       0.15151515, 0.16161616, 0.17171717, 0.18181818, 0.19191919,\n",
       "       0.2020202 , 0.21212121, 0.22222222, 0.23232323, 0.24242424,\n",
       "       0.25252525, 0.26262626, 0.27272727, 0.28282828, 0.29292929,\n",
       "       0.3030303 , 0.31313131, 0.32323232, 0.33333333, 0.34343434,\n",
       "       0.35353535, 0.36363636, 0.37373737, 0.38383838, 0.39393939,\n",
       "       0.4040404 , 0.41414141, 0.42424242, 0.43434343, 0.44444444,\n",
       "       0.45454545, 0.46464646, 0.47474747, 0.48484848, 0.49494949,\n",
       "       0.50505051, 0.51515152, 0.52525253, 0.53535354, 0.54545455,\n",
       "       0.55555556, 0.56565657, 0.57575758, 0.58585859, 0.5959596 ,\n",
       "       0.60606061, 0.61616162, 0.62626263, 0.63636364, 0.64646465,\n",
       "       0.65656566, 0.66666667, 0.67676768, 0.68686869, 0.6969697 ,\n",
       "       0.70707071, 0.71717172, 0.72727273, 0.73737374, 0.74747475,\n",
       "       0.75757576, 0.76767677, 0.77777778, 0.78787879, 0.7979798 ,\n",
       "       0.80808081, 0.81818182, 0.82828283, 0.83838384, 0.84848485,\n",
       "       0.85858586, 0.86868687, 0.87878788, 0.88888889, 0.8989899 ,\n",
       "       0.90909091, 0.91919192, 0.92929293, 0.93939394, 0.94949495,\n",
       "       0.95959596, 0.96969697, 0.97979798, 0.98989899, 1.        ])"
      ]
     },
     "execution_count": 31,
     "metadata": {},
     "output_type": "execute_result"
    }
   ],
   "source": [
    "net"
   ]
  },
  {
   "cell_type": "code",
   "execution_count": 26,
   "metadata": {},
   "outputs": [
    {
     "data": {
      "text/plain": [
       "array([1.00000000e+00, 8.42139544e-01, 7.09199012e-01, 5.97244533e-01,\n",
       "       5.02963239e-01, 4.23565233e-01, 3.56701032e-01, 3.00392045e-01,\n",
       "       2.52972020e-01, 2.13037741e-01, 1.79407507e-01, 1.51086156e-01,\n",
       "       1.27235626e-01, 1.07150152e-01, 9.02353806e-02, 7.59907823e-02,\n",
       "       6.39948428e-02, 5.38925878e-02, 4.53850793e-02, 3.82205700e-02,\n",
       "       3.21870534e-02, 2.71059905e-02, 2.28270265e-02, 1.92235417e-02,\n",
       "       1.61889046e-02, 1.36333168e-02, 1.14811552e-02, 9.66873479e-03,\n",
       "       8.14242391e-03, 6.85705716e-03, 5.77459900e-03, 4.86301817e-03,\n",
       "       4.09533990e-03, 3.44884768e-03, 2.90441101e-03, 2.44591937e-03,\n",
       "       2.05980542e-03, 1.73464360e-03, 1.46081197e-03, 1.23020753e-03,\n",
       "       1.03600641e-03, 8.72461964e-04, 7.34734721e-04, 6.18749163e-04,\n",
       "       5.21073138e-04, 4.38816295e-04, 3.69544555e-04, 3.11208083e-04,\n",
       "       2.62080633e-04, 2.20708465e-04, 1.85867326e-04, 1.56526225e-04,\n",
       "       1.31816924e-04, 1.11008245e-04, 9.34844325e-05, 7.87269374e-05,\n",
       "       6.62990672e-05, 5.58330662e-05, 4.70192329e-05, 3.95967554e-05,\n",
       "       3.33459936e-05, 2.80819798e-05, 2.36489457e-05, 1.99157124e-05,\n",
       "       1.67718089e-05, 1.41242035e-05, 1.18945503e-05, 1.00168712e-05,\n",
       "       8.43560334e-06, 7.10395516e-06, 5.98252156e-06, 5.03811798e-06,\n",
       "       4.24279838e-06, 3.57302830e-06, 3.00898842e-06, 2.53398814e-06,\n",
       "       2.13397162e-06, 1.79710188e-06, 1.51341056e-06, 1.27450288e-06,\n",
       "       1.07330928e-06, 9.03876185e-07, 7.61189878e-07, 6.41028097e-07,\n",
       "       5.39835110e-07, 4.54616493e-07, 3.82850527e-07, 3.22413568e-07,\n",
       "       2.71517215e-07, 2.28655384e-07, 1.92559741e-07, 1.62162173e-07,\n",
       "       1.36563178e-07, 1.15005253e-07, 9.68504710e-08, 8.15616115e-08,\n",
       "       6.86862584e-08, 5.78434143e-08, 4.87122266e-08, 4.10224923e-08])"
      ]
     },
     "execution_count": 26,
     "metadata": {},
     "output_type": "execute_result"
    }
   ],
   "source": [
    "answers"
   ]
  },
  {
   "cell_type": "code",
   "execution_count": 18,
   "metadata": {},
   "outputs": [
    {
     "data": {
      "text/plain": [
       "0.842139544413792"
      ]
     },
     "execution_count": 18,
     "metadata": {},
     "output_type": "execute_result"
    }
   ],
   "source": [
    "u_next(1)"
   ]
  },
  {
   "cell_type": "code",
   "execution_count": 62,
   "metadata": {},
   "outputs": [],
   "source": [
    "arr = np.loadtxt(\"out.txt\")"
   ]
  },
  {
   "cell_type": "code",
   "execution_count": 63,
   "metadata": {},
   "outputs": [],
   "source": [
    "def ans(t, x, y):\n",
    "    return math.exp(-2 * t * math.pi ** 2 ) * math.sin(math.pi * x) * math.sin(math.pi * y)"
   ]
  },
  {
   "cell_type": "code",
   "execution_count": 64,
   "metadata": {},
   "outputs": [],
   "source": [
    "arr_new = np.zeros(arr.shape)"
   ]
  },
  {
   "cell_type": "code",
   "execution_count": 80,
   "metadata": {},
   "outputs": [],
   "source": [
    "for i in range(10):\n",
    "    for j in range(100):\n",
    "        arr_new[i][j] = ans(i / 10., (j % 10) / 9., (j // 10) / 9.)  "
   ]
  },
  {
   "cell_type": "code",
   "execution_count": 77,
   "metadata": {},
   "outputs": [
    {
     "data": {
      "text/plain": [
       "-0.02655064683766071"
      ]
     },
     "execution_count": 77,
     "metadata": {},
     "output_type": "execute_result"
    }
   ],
   "source": [
    "i = 1\n",
    "arr_new[i][11] - arr[i][11]"
   ]
  },
  {
   "cell_type": "code",
   "execution_count": 78,
   "metadata": {},
   "outputs": [
    {
     "data": {
      "text/plain": [
       "0.013049353162339294"
      ]
     },
     "execution_count": 78,
     "metadata": {},
     "output_type": "execute_result"
    }
   ],
   "source": [
    "arr_new[1][11]"
   ]
  },
  {
   "cell_type": "code",
   "execution_count": 79,
   "metadata": {},
   "outputs": [
    {
     "data": {
      "text/plain": [
       "0.0396"
      ]
     },
     "execution_count": 79,
     "metadata": {},
     "output_type": "execute_result"
    }
   ],
   "source": [
    "arr[1][11]"
   ]
  },
  {
   "cell_type": "code",
   "execution_count": 72,
   "metadata": {},
   "outputs": [
    {
     "data": {
      "text/plain": [
       "array([0.      , 0.      , 0.      , 0.      , 0.      , 0.      ,\n",
       "       0.      , 0.      , 0.      , 0.      , 0.      , 0.0396  ,\n",
       "       0.074424, 0.100272, 0.114025, 0.114025, 0.100272, 0.074424,\n",
       "       0.0396  , 0.      , 0.      , 0.074424, 0.139872, 0.188449,\n",
       "       0.214296, 0.214296, 0.188449, 0.139872, 0.074424, 0.      ,\n",
       "       0.      , 0.100272, 0.188449, 0.253897, 0.28872 , 0.28872 ,\n",
       "       0.253897, 0.188449, 0.100272, 0.      , 0.      , 0.114025,\n",
       "       0.214296, 0.28872 , 0.328321, 0.328321, 0.28872 , 0.214296,\n",
       "       0.114025, 0.      , 0.      , 0.114025, 0.214296, 0.28872 ,\n",
       "       0.328321, 0.328321, 0.28872 , 0.214296, 0.114025, 0.      ,\n",
       "       0.      , 0.100272, 0.188449, 0.253897, 0.28872 , 0.28872 ,\n",
       "       0.253897, 0.188449, 0.100272, 0.      , 0.      , 0.074424,\n",
       "       0.139872, 0.188449, 0.214296, 0.214296, 0.188449, 0.139872,\n",
       "       0.074424, 0.      , 0.      , 0.0396  , 0.074424, 0.100272,\n",
       "       0.114025, 0.114025, 0.100272, 0.074424, 0.0396  , 0.      ,\n",
       "       0.      , 0.      , 0.      , 0.      , 0.      , 0.      ,\n",
       "       0.      , 0.      , 0.      , 0.      ])"
      ]
     },
     "execution_count": 72,
     "metadata": {},
     "output_type": "execute_result"
    }
   ],
   "source": [
    "arr[1]"
   ]
  },
  {
   "cell_type": "code",
   "execution_count": 68,
   "metadata": {},
   "outputs": [
    {
     "data": {
      "text/plain": [
       "array([0.00e+00, 0.00e+00, 0.00e+00, 0.00e+00, 0.00e+00, 0.00e+00,\n",
       "       0.00e+00, 0.00e+00, 0.00e+00, 0.00e+00, 0.00e+00, 6.00e-05,\n",
       "       1.12e-04, 1.51e-04, 1.72e-04, 1.72e-04, 1.51e-04, 1.12e-04,\n",
       "       6.00e-05, 0.00e+00, 0.00e+00, 1.12e-04, 2.11e-04, 2.84e-04,\n",
       "       3.23e-04, 3.23e-04, 2.84e-04, 2.11e-04, 1.12e-04, 0.00e+00,\n",
       "       0.00e+00, 1.51e-04, 2.84e-04, 3.82e-04, 4.35e-04, 4.35e-04,\n",
       "       3.82e-04, 2.84e-04, 1.51e-04, 0.00e+00, 0.00e+00, 1.72e-04,\n",
       "       3.23e-04, 4.35e-04, 4.94e-04, 4.94e-04, 4.35e-04, 3.23e-04,\n",
       "       1.72e-04, 0.00e+00, 0.00e+00, 1.72e-04, 3.23e-04, 4.35e-04,\n",
       "       4.94e-04, 4.94e-04, 4.35e-04, 3.23e-04, 1.72e-04, 0.00e+00,\n",
       "       0.00e+00, 1.51e-04, 2.84e-04, 3.82e-04, 4.35e-04, 4.35e-04,\n",
       "       3.82e-04, 2.84e-04, 1.51e-04, 0.00e+00, 0.00e+00, 1.12e-04,\n",
       "       2.11e-04, 2.84e-04, 3.23e-04, 3.23e-04, 2.84e-04, 2.11e-04,\n",
       "       1.12e-04, 0.00e+00, 0.00e+00, 6.00e-05, 1.12e-04, 1.51e-04,\n",
       "       1.72e-04, 1.72e-04, 1.51e-04, 1.12e-04, 6.00e-05, 0.00e+00,\n",
       "       0.00e+00, 0.00e+00, 0.00e+00, 0.00e+00, 0.00e+00, 0.00e+00,\n",
       "       0.00e+00, 0.00e+00, 0.00e+00, 0.00e+00])"
      ]
     },
     "execution_count": 68,
     "metadata": {},
     "output_type": "execute_result"
    }
   ],
   "source": [
    "arr[i]"
   ]
  },
  {
   "cell_type": "code",
   "execution_count": 34,
   "metadata": {},
   "outputs": [
    {
     "data": {
      "text/plain": [
       "array([[ 0.00000000e+00,  0.00000000e+00,  0.00000000e+00,\n",
       "         0.00000000e+00,  0.00000000e+00,  0.00000000e+00,\n",
       "         0.00000000e+00,  0.00000000e+00,  0.00000000e+00,\n",
       "         0.00000000e+00,  0.00000000e+00,  2.21559489e-07,\n",
       "        -3.10392954e-07, -1.32726024e-07, -8.88334651e-08,\n",
       "        -8.88334651e-08, -1.32726024e-07, -3.10392954e-07,\n",
       "         2.21559489e-07, -4.18853874e-17,  0.00000000e+00,\n",
       "        -3.10392954e-07,  8.88334653e-08, -3.99226419e-07,\n",
       "        -2.21559489e-07, -2.21559489e-07, -3.99226419e-07,\n",
       "         8.88334651e-08, -3.10392954e-07, -7.87187789e-17,\n",
       "         0.00000000e+00, -1.32726024e-07, -3.99226419e-07,\n",
       "         1.11022302e-16,  4.68047557e-07,  4.68047557e-07,\n",
       "         0.00000000e+00, -3.99226419e-07, -1.32726024e-07,\n",
       "        -1.06057524e-16,  0.00000000e+00, -8.88334651e-08,\n",
       "        -2.21559489e-07,  4.68047557e-07, -3.10392954e-07,\n",
       "        -3.10392954e-07,  4.68047557e-07, -2.21559489e-07,\n",
       "        -8.88334653e-08, -1.20604166e-16,  0.00000000e+00,\n",
       "        -8.88334651e-08, -2.21559489e-07,  4.68047557e-07,\n",
       "        -3.10392954e-07, -3.10392954e-07,  4.68047557e-07,\n",
       "        -2.21559489e-07, -8.88334653e-08, -1.20604166e-16,\n",
       "         0.00000000e+00, -1.32726024e-07, -3.99226419e-07,\n",
       "         0.00000000e+00,  4.68047557e-07,  4.68047557e-07,\n",
       "        -1.11022302e-16, -3.99226420e-07, -1.32726024e-07,\n",
       "        -1.06057524e-16,  0.00000000e+00, -3.10392954e-07,\n",
       "         8.88334651e-08, -3.99226419e-07, -2.21559489e-07,\n",
       "        -2.21559489e-07, -3.99226420e-07,  8.88334650e-08,\n",
       "        -3.10392954e-07, -7.87187789e-17,  0.00000000e+00,\n",
       "         2.21559489e-07, -3.10392954e-07, -1.32726024e-07,\n",
       "        -8.88334653e-08, -8.88334653e-08, -1.32726024e-07,\n",
       "        -3.10392954e-07,  2.21559489e-07, -4.18853874e-17,\n",
       "         0.00000000e+00, -4.18853874e-17, -7.87187789e-17,\n",
       "        -1.06057524e-16, -1.20604166e-16, -1.20604166e-16,\n",
       "        -1.06057524e-16, -7.87187789e-17, -4.18853874e-17,\n",
       "        -1.49975978e-32],\n",
       "       [ 0.00000000e+00,  0.00000000e+00,  0.00000000e+00,\n",
       "         0.00000000e+00,  0.00000000e+00,  0.00000000e+00,\n",
       "         0.00000000e+00,  0.00000000e+00,  0.00000000e+00,\n",
       "         0.00000000e+00,  0.00000000e+00,  2.65506468e-02,\n",
       "         4.98992383e-02,  6.72298779e-02,  7.64508851e-02,\n",
       "         7.64508851e-02,  6.72298779e-02,  4.98992383e-02,\n",
       "         2.65506468e-02, -4.67248754e-18,  0.00000000e+00,\n",
       "         4.98992383e-02,  9.37805247e-02,  1.26350123e-01,\n",
       "         1.43679763e-01,  1.43679763e-01,  1.26350123e-01,\n",
       "         9.37805247e-02,  4.98992383e-02, -8.78140412e-18,\n",
       "         0.00000000e+00,  6.72298779e-02,  1.26350123e-01,\n",
       "         1.70231410e-01,  1.93579001e-01,  1.93579001e-01,\n",
       "         1.70231410e-01,  1.26350123e-01,  6.72298779e-02,\n",
       "        -1.18311538e-17,  0.00000000e+00,  7.64508851e-02,\n",
       "         1.43679763e-01,  1.93579001e-01,  2.20130648e-01,\n",
       "         2.20130648e-01,  1.93579001e-01,  1.43679763e-01,\n",
       "         7.64508851e-02, -1.34538917e-17,  0.00000000e+00,\n",
       "         7.64508851e-02,  1.43679763e-01,  1.93579001e-01,\n",
       "         2.20130648e-01,  2.20130648e-01,  1.93579001e-01,\n",
       "         1.43679763e-01,  7.64508851e-02, -1.34538917e-17,\n",
       "         0.00000000e+00,  6.72298779e-02,  1.26350123e-01,\n",
       "         1.70231410e-01,  1.93579001e-01,  1.93579001e-01,\n",
       "         1.70231410e-01,  1.26350123e-01,  6.72298779e-02,\n",
       "        -1.18311538e-17,  0.00000000e+00,  4.98992383e-02,\n",
       "         9.37805247e-02,  1.26350123e-01,  1.43679763e-01,\n",
       "         1.43679763e-01,  1.26350123e-01,  9.37805247e-02,\n",
       "         4.98992383e-02, -8.78140412e-18,  0.00000000e+00,\n",
       "         2.65506468e-02,  4.98992383e-02,  6.72298779e-02,\n",
       "         7.64508851e-02,  7.64508851e-02,  6.72298779e-02,\n",
       "         4.98992383e-02,  2.65506468e-02, -4.67248754e-18,\n",
       "         0.00000000e+00, -4.67248754e-18, -8.78140412e-18,\n",
       "        -1.18311538e-17, -1.34538917e-17, -1.34538917e-17,\n",
       "        -1.18311538e-17, -8.78140412e-18, -4.67248754e-18,\n",
       "        -1.67304383e-33],\n",
       "       [ 0.00000000e+00,  0.00000000e+00,  0.00000000e+00,\n",
       "         0.00000000e+00,  0.00000000e+00,  0.00000000e+00,\n",
       "         0.00000000e+00,  0.00000000e+00,  0.00000000e+00,\n",
       "         0.00000000e+00,  0.00000000e+00,  1.19502909e-02,\n",
       "         2.24591618e-02,  3.02590151e-02,  3.44094527e-02,\n",
       "         3.44094527e-02,  3.02590151e-02,  2.24591618e-02,\n",
       "         1.19502909e-02, -5.21235237e-19,  0.00000000e+00,\n",
       "         2.24591618e-02,  4.22093060e-02,  5.68676144e-02,\n",
       "         6.46674678e-02,  6.46674678e-02,  5.68676144e-02,\n",
       "         4.22093060e-02,  2.24591618e-02, -9.79601812e-19,\n",
       "         0.00000000e+00,  3.02590151e-02,  5.68676144e-02,\n",
       "         7.66177587e-02,  8.71266296e-02,  8.71266296e-02,\n",
       "         7.66177587e-02,  5.68676144e-02,  3.02590151e-02,\n",
       "        -1.31981395e-18,  0.00000000e+00,  3.44094527e-02,\n",
       "         6.46674678e-02,  8.71266296e-02,  9.90769205e-02,\n",
       "         9.90769205e-02,  8.71266296e-02,  6.46674678e-02,\n",
       "         3.44094527e-02, -1.50083705e-18,  0.00000000e+00,\n",
       "         3.44094527e-02,  6.46674678e-02,  8.71266296e-02,\n",
       "         9.90769205e-02,  9.90769205e-02,  8.71266296e-02,\n",
       "         6.46674678e-02,  3.44094527e-02, -1.50083705e-18,\n",
       "         0.00000000e+00,  3.02590151e-02,  5.68676144e-02,\n",
       "         7.66177587e-02,  8.71266296e-02,  8.71266296e-02,\n",
       "         7.66177587e-02,  5.68676144e-02,  3.02590151e-02,\n",
       "        -1.31981395e-18,  0.00000000e+00,  2.24591618e-02,\n",
       "         4.22093060e-02,  5.68676144e-02,  6.46674678e-02,\n",
       "         6.46674678e-02,  5.68676144e-02,  4.22093060e-02,\n",
       "         2.24591618e-02, -9.79601812e-19,  0.00000000e+00,\n",
       "         1.19502909e-02,  2.24591618e-02,  3.02590151e-02,\n",
       "         3.44094527e-02,  3.44094527e-02,  3.02590151e-02,\n",
       "         2.24591618e-02,  1.19502909e-02, -5.21235237e-19,\n",
       "         0.00000000e+00, -5.21235237e-19, -9.79601812e-19,\n",
       "        -1.31981395e-18, -1.50083705e-18, -1.50083705e-18,\n",
       "        -1.31981395e-18, -9.79601812e-19, -5.21235237e-19,\n",
       "        -1.86634933e-34],\n",
       "       [ 0.00000000e+00,  0.00000000e+00,  0.00000000e+00,\n",
       "         0.00000000e+00,  0.00000000e+00,  0.00000000e+00,\n",
       "         0.00000000e+00,  0.00000000e+00,  0.00000000e+00,\n",
       "         0.00000000e+00,  0.00000000e+00,  4.37560965e-03,\n",
       "         8.22380597e-03,  1.10798132e-02,  1.25994156e-02,\n",
       "         1.25994156e-02,  1.10798132e-02,  8.22380597e-03,\n",
       "         4.37560965e-03, -5.81459383e-20,  0.00000000e+00,\n",
       "         8.22380597e-03,  1.54564229e-02,  2.08242216e-02,\n",
       "         2.36802288e-02,  2.36802288e-02,  2.08242216e-02,\n",
       "         1.54564229e-02,  8.22380597e-03, -1.09278618e-19,\n",
       "         0.00000000e+00,  1.10798132e-02,  2.08242216e-02,\n",
       "         2.80558385e-02,  3.19040348e-02,  3.19040348e-02,\n",
       "         2.80558385e-02,  2.08242216e-02,  1.10798132e-02,\n",
       "        -1.47230684e-19,  0.00000000e+00,  1.25994156e-02,\n",
       "         2.36802288e-02,  3.19040348e-02,  3.62796445e-02,\n",
       "         3.62796445e-02,  3.19040348e-02,  2.36802288e-02,\n",
       "         1.25994156e-02, -1.67424557e-19,  0.00000000e+00,\n",
       "         1.25994156e-02,  2.36802288e-02,  3.19040348e-02,\n",
       "         3.62796445e-02,  3.62796445e-02,  3.19040348e-02,\n",
       "         2.36802288e-02,  1.25994156e-02, -1.67424557e-19,\n",
       "         0.00000000e+00,  1.10798132e-02,  2.08242216e-02,\n",
       "         2.80558385e-02,  3.19040348e-02,  3.19040348e-02,\n",
       "         2.80558385e-02,  2.08242216e-02,  1.10798132e-02,\n",
       "        -1.47230684e-19,  0.00000000e+00,  8.22380597e-03,\n",
       "         1.54564229e-02,  2.08242216e-02,  2.36802288e-02,\n",
       "         2.36802288e-02,  2.08242216e-02,  1.54564229e-02,\n",
       "         8.22380597e-03, -1.09278618e-19,  0.00000000e+00,\n",
       "         4.37560965e-03,  8.22380597e-03,  1.10798132e-02,\n",
       "         1.25994156e-02,  1.25994156e-02,  1.10798132e-02,\n",
       "         8.22380597e-03,  4.37560965e-03, -5.81459383e-20,\n",
       "         0.00000000e+00, -5.81459383e-20, -1.09278618e-19,\n",
       "        -1.47230684e-19, -1.67424557e-19, -1.67424557e-19,\n",
       "        -1.47230684e-19, -1.09278618e-19, -5.81459383e-20,\n",
       "        -2.08198957e-35],\n",
       "       [ 0.00000000e+00,  0.00000000e+00,  0.00000000e+00,\n",
       "         0.00000000e+00,  0.00000000e+00,  0.00000000e+00,\n",
       "         0.00000000e+00,  0.00000000e+00,  0.00000000e+00,\n",
       "         0.00000000e+00,  0.00000000e+00,  1.51788469e-03,\n",
       "         2.85295435e-03,  3.84413042e-03,  4.37183904e-03,\n",
       "         4.37183904e-03,  3.84413042e-03,  2.85295435e-03,\n",
       "         1.51788469e-03, -6.48641899e-21,  0.00000000e+00,\n",
       "         2.85295435e-03,  5.36201511e-03,  7.22479339e-03,\n",
       "         8.21596945e-03,  8.21596945e-03,  7.22479339e-03,\n",
       "         5.36201511e-03,  2.85295435e-03, -1.21904801e-20,\n",
       "         0.00000000e+00,  3.84413042e-03,  7.22479339e-03,\n",
       "         9.73385414e-03,  1.10689238e-02,  1.10689238e-02,\n",
       "         9.73385414e-03,  7.22479339e-03,  3.84413042e-03,\n",
       "        -1.64241894e-20,  0.00000000e+00,  4.37183904e-03,\n",
       "         8.21596945e-03,  1.10689238e-02,  1.25878085e-02,\n",
       "         1.25878085e-02,  1.10689238e-02,  8.21596945e-03,\n",
       "         4.37183904e-03, -1.86768991e-20,  0.00000000e+00,\n",
       "         4.37183904e-03,  8.21596945e-03,  1.10689238e-02,\n",
       "         1.25878085e-02,  1.25878085e-02,  1.10689238e-02,\n",
       "         8.21596945e-03,  4.37183904e-03, -1.86768991e-20,\n",
       "         0.00000000e+00,  3.84413042e-03,  7.22479339e-03,\n",
       "         9.73385414e-03,  1.10689238e-02,  1.10689238e-02,\n",
       "         9.73385414e-03,  7.22479339e-03,  3.84413042e-03,\n",
       "        -1.64241894e-20,  0.00000000e+00,  2.85295435e-03,\n",
       "         5.36201511e-03,  7.22479339e-03,  8.21596945e-03,\n",
       "         8.21596945e-03,  7.22479339e-03,  5.36201511e-03,\n",
       "         2.85295435e-03, -1.21904801e-20,  0.00000000e+00,\n",
       "         1.51788469e-03,  2.85295435e-03,  3.84413042e-03,\n",
       "         4.37183904e-03,  4.37183904e-03,  3.84413042e-03,\n",
       "         2.85295435e-03,  1.51788469e-03, -6.48641899e-21,\n",
       "         0.00000000e+00, -6.48641899e-21, -1.21904801e-20,\n",
       "        -1.64241894e-20, -1.86768991e-20, -1.86768991e-20,\n",
       "        -1.64241894e-20, -1.21904801e-20, -6.48641899e-21,\n",
       "        -2.32254515e-36],\n",
       "       [ 0.00000000e+00,  0.00000000e+00,  0.00000000e+00,\n",
       "         0.00000000e+00,  0.00000000e+00,  0.00000000e+00,\n",
       "         0.00000000e+00,  0.00000000e+00,  0.00000000e+00,\n",
       "         0.00000000e+00,  0.00000000e+00,  5.17979162e-04,\n",
       "         9.73202067e-04,  1.31188306e-03,  1.49218123e-03,\n",
       "         1.49218123e-03,  1.31188306e-03,  9.73202067e-04,\n",
       "         5.17979162e-04, -7.23586764e-22,  0.00000000e+00,\n",
       "         9.73202067e-04,  1.82986222e-03,  2.46538330e-03,\n",
       "         2.80306429e-03,  2.80306429e-03,  2.46538330e-03,\n",
       "         1.82986222e-03,  9.73202067e-04, -1.35989829e-21,\n",
       "         0.00000000e+00,  1.31188306e-03,  2.46538330e-03,\n",
       "         3.32204345e-03,  3.77726636e-03,  3.77726636e-03,\n",
       "         3.32204345e-03,  2.46538330e-03,  1.31188306e-03,\n",
       "        -1.83218600e-21,  0.00000000e+00,  1.49218123e-03,\n",
       "         2.80306429e-03,  3.77726636e-03,  4.29524552e-03,\n",
       "         4.29524552e-03,  3.77726636e-03,  2.80306429e-03,\n",
       "         1.49218123e-03, -2.08348505e-21,  0.00000000e+00,\n",
       "         1.49218123e-03,  2.80306429e-03,  3.77726636e-03,\n",
       "         4.29524552e-03,  4.29524552e-03,  3.77726636e-03,\n",
       "         2.80306429e-03,  1.49218123e-03, -2.08348505e-21,\n",
       "         0.00000000e+00,  1.31188306e-03,  2.46538330e-03,\n",
       "         3.32204345e-03,  3.77726636e-03,  3.77726636e-03,\n",
       "         3.32204345e-03,  2.46538330e-03,  1.31188306e-03,\n",
       "        -1.83218600e-21,  0.00000000e+00,  9.73202067e-04,\n",
       "         1.82986222e-03,  2.46538330e-03,  2.80306429e-03,\n",
       "         2.80306429e-03,  2.46538330e-03,  1.82986222e-03,\n",
       "         9.73202067e-04, -1.35989829e-21,  0.00000000e+00,\n",
       "         5.17979162e-04,  9.73202067e-04,  1.31188306e-03,\n",
       "         1.49218123e-03,  1.49218123e-03,  1.31188306e-03,\n",
       "         9.73202067e-04,  5.17979162e-04, -7.23586764e-22,\n",
       "         0.00000000e+00, -7.23586764e-22, -1.35989829e-21,\n",
       "        -1.83218600e-21, -2.08348505e-21, -2.08348505e-21,\n",
       "        -1.83218600e-21, -1.35989829e-21, -7.23586764e-22,\n",
       "        -2.59089481e-37],\n",
       "       [ 0.00000000e+00,  0.00000000e+00,  0.00000000e+00,\n",
       "         0.00000000e+00,  0.00000000e+00,  0.00000000e+00,\n",
       "         0.00000000e+00,  0.00000000e+00,  0.00000000e+00,\n",
       "         0.00000000e+00,  0.00000000e+00,  1.75774567e-04,\n",
       "         3.30576325e-04,  4.45429184e-04,  5.06350892e-04,\n",
       "         5.06350892e-04,  4.45429184e-04,  3.30576325e-04,\n",
       "         1.75774567e-04, -8.07190849e-23,  0.00000000e+00,\n",
       "         3.30576325e-04,  6.21203751e-04,  8.36927217e-04,\n",
       "         9.51780076e-04,  9.51780076e-04,  8.36927217e-04,\n",
       "         6.21203751e-04,  3.30576325e-04, -1.51702257e-22,\n",
       "         0.00000000e+00,  4.45429184e-04,  8.36927217e-04,\n",
       "         1.12755464e-03,  1.28235640e-03,  1.28235640e-03,\n",
       "         1.12755464e-03,  8.36927217e-04,  4.45429184e-04,\n",
       "        -2.04387898e-22,  0.00000000e+00,  5.06350892e-04,\n",
       "         9.51780076e-04,  1.28235640e-03,  1.45813097e-03,\n",
       "         1.45813097e-03,  1.28235640e-03,  9.51780076e-04,\n",
       "         5.06350892e-04, -2.32421342e-22,  0.00000000e+00,\n",
       "         5.06350892e-04,  9.51780076e-04,  1.28235640e-03,\n",
       "         1.45813097e-03,  1.45813097e-03,  1.28235640e-03,\n",
       "         9.51780076e-04,  5.06350892e-04, -2.32421342e-22,\n",
       "         0.00000000e+00,  4.45429184e-04,  8.36927217e-04,\n",
       "         1.12755464e-03,  1.28235640e-03,  1.28235640e-03,\n",
       "         1.12755464e-03,  8.36927217e-04,  4.45429184e-04,\n",
       "        -2.04387898e-22,  0.00000000e+00,  3.30576325e-04,\n",
       "         6.21203751e-04,  8.36927217e-04,  9.51780076e-04,\n",
       "         9.51780076e-04,  8.36927217e-04,  6.21203751e-04,\n",
       "         3.30576325e-04, -1.51702257e-22,  0.00000000e+00,\n",
       "         1.75774567e-04,  3.30576325e-04,  4.45429184e-04,\n",
       "         5.06350892e-04,  5.06350892e-04,  4.45429184e-04,\n",
       "         3.30576325e-04,  1.75774567e-04, -8.07190849e-23,\n",
       "         0.00000000e+00, -8.07190849e-23, -1.51702257e-22,\n",
       "        -2.04387898e-22, -2.32421342e-22, -2.32421342e-22,\n",
       "        -2.04387898e-22, -1.51702257e-22, -8.07190849e-23,\n",
       "        -2.89024991e-38],\n",
       "       [ 0.00000000e+00,  0.00000000e+00,  0.00000000e+00,\n",
       "         0.00000000e+00,  0.00000000e+00,  0.00000000e+00,\n",
       "         0.00000000e+00,  0.00000000e+00,  0.00000000e+00,\n",
       "         0.00000000e+00,  0.00000000e+00,  5.99748520e-05,\n",
       "         1.11952737e-04,  1.50936323e-04,  1.71927589e-04,\n",
       "         1.71927589e-04,  1.50936323e-04,  1.11952737e-04,\n",
       "         5.99748520e-05, -9.00454650e-24,  0.00000000e+00,\n",
       "         1.11952737e-04,  2.10911175e-04,  2.83880327e-04,\n",
       "         3.22863912e-04,  3.22863912e-04,  2.83880327e-04,\n",
       "         2.10911175e-04,  1.11952737e-04, -1.69230118e-23,\n",
       "         0.00000000e+00,  1.50936323e-04,  2.83880327e-04,\n",
       "         3.81838765e-04,  4.34816650e-04,  4.34816650e-04,\n",
       "         3.81838765e-04,  2.83880327e-04,  1.50936323e-04,\n",
       "        -2.28003121e-23,  0.00000000e+00,  1.71927589e-04,\n",
       "         3.22863912e-04,  4.34816650e-04,  4.93791502e-04,\n",
       "         4.93791502e-04,  4.34816650e-04,  3.22863912e-04,\n",
       "         1.71927589e-04, -2.59275583e-23,  0.00000000e+00,\n",
       "         1.71927589e-04,  3.22863912e-04,  4.34816650e-04,\n",
       "         4.93791502e-04,  4.93791502e-04,  4.34816650e-04,\n",
       "         3.22863912e-04,  1.71927589e-04, -2.59275583e-23,\n",
       "         0.00000000e+00,  1.50936323e-04,  2.83880327e-04,\n",
       "         3.81838765e-04,  4.34816650e-04,  4.34816650e-04,\n",
       "         3.81838765e-04,  2.83880327e-04,  1.50936323e-04,\n",
       "        -2.28003121e-23,  0.00000000e+00,  1.11952737e-04,\n",
       "         2.10911175e-04,  2.83880327e-04,  3.22863912e-04,\n",
       "         3.22863912e-04,  2.83880327e-04,  2.10911175e-04,\n",
       "         1.11952737e-04, -1.69230118e-23,  0.00000000e+00,\n",
       "         5.99748520e-05,  1.11952737e-04,  1.50936323e-04,\n",
       "         1.71927589e-04,  1.71927589e-04,  1.50936323e-04,\n",
       "         1.11952737e-04,  5.99748520e-05, -9.00454650e-24,\n",
       "         0.00000000e+00, -9.00454650e-24, -1.69230118e-23,\n",
       "        -2.28003121e-23, -2.59275583e-23, -2.59275583e-23,\n",
       "        -2.28003121e-23, -1.69230118e-23, -9.00454650e-24,\n",
       "        -3.22419286e-39],\n",
       "       [ 0.00000000e+00,  0.00000000e+00,  0.00000000e+00,\n",
       "         0.00000000e+00,  0.00000000e+00,  0.00000000e+00,\n",
       "         0.00000000e+00,  0.00000000e+00,  0.00000000e+00,\n",
       "         0.00000000e+00,  0.00000000e+00,  1.99971946e-05,\n",
       "         3.79947277e-05,  5.09928966e-05,  5.79919223e-05,\n",
       "         5.79919223e-05,  5.09928966e-05,  3.79947277e-05,\n",
       "         1.99971946e-05, -1.00449426e-24,  0.00000000e+00,\n",
       "         3.79947277e-05,  7.09900912e-05,  9.59866499e-05,\n",
       "         1.08984819e-04,  1.08984819e-04,  9.59866499e-05,\n",
       "         7.09900912e-05,  3.79947277e-05, -1.88783169e-24,\n",
       "         0.00000000e+00,  5.09928966e-05,  9.59866499e-05,\n",
       "         1.28982014e-04,  1.46979547e-04,  1.46979547e-04,\n",
       "         1.28982014e-04,  9.59866499e-05,  5.09928966e-05,\n",
       "        -2.54346876e-24,  0.00000000e+00,  5.79919223e-05,\n",
       "         1.08984819e-04,  1.46979547e-04,  1.66976741e-04,\n",
       "         1.66976741e-04,  1.46979547e-04,  1.08984819e-04,\n",
       "         5.79919223e-05, -2.89232596e-24,  0.00000000e+00,\n",
       "         5.79919223e-05,  1.08984819e-04,  1.46979547e-04,\n",
       "         1.66976741e-04,  1.66976741e-04,  1.46979547e-04,\n",
       "         1.08984819e-04,  5.79919223e-05, -2.89232596e-24,\n",
       "         0.00000000e+00,  5.09928966e-05,  9.59866499e-05,\n",
       "         1.28982014e-04,  1.46979547e-04,  1.46979547e-04,\n",
       "         1.28982014e-04,  9.59866499e-05,  5.09928966e-05,\n",
       "        -2.54346876e-24,  0.00000000e+00,  3.79947277e-05,\n",
       "         7.09900912e-05,  9.59866499e-05,  1.08984819e-04,\n",
       "         1.08984819e-04,  9.59866499e-05,  7.09900912e-05,\n",
       "         3.79947277e-05, -1.88783169e-24,  0.00000000e+00,\n",
       "         1.99971946e-05,  3.79947277e-05,  5.09928966e-05,\n",
       "         5.79919223e-05,  5.79919223e-05,  5.09928966e-05,\n",
       "         3.79947277e-05,  1.99971946e-05, -1.00449426e-24,\n",
       "         0.00000000e+00, -1.00449426e-24, -1.88783169e-24,\n",
       "        -2.54346876e-24, -2.89232596e-24, -2.89232596e-24,\n",
       "        -2.54346876e-24, -1.88783169e-24, -1.00449426e-24,\n",
       "        -3.59671998e-40],\n",
       "       [ 0.00000000e+00,  0.00000000e+00,  0.00000000e+00,\n",
       "         0.00000000e+00,  0.00000000e+00,  0.00000000e+00,\n",
       "         0.00000000e+00,  0.00000000e+00,  0.00000000e+00,\n",
       "         0.00000000e+00,  0.00000000e+00,  6.99968705e-06,\n",
       "         1.29994118e-05,  1.69992076e-05,  1.99990989e-05,\n",
       "         1.99990989e-05,  1.69992076e-05,  1.29994118e-05,\n",
       "         6.99968705e-06, -1.12055474e-25,  0.00000000e+00,\n",
       "         1.29994118e-05,  2.39988946e-05,  3.29985107e-05,\n",
       "         3.69983065e-05,  3.69983065e-05,  3.29985107e-05,\n",
       "         2.39988946e-05,  1.29994118e-05, -2.10595404e-25,\n",
       "         0.00000000e+00,  1.69992076e-05,  3.29985107e-05,\n",
       "         4.39979935e-05,  4.99977183e-05,  4.99977183e-05,\n",
       "         4.39979935e-05,  3.29985107e-05,  1.69992076e-05,\n",
       "        -2.83734420e-25,  0.00000000e+00,  1.99990989e-05,\n",
       "         3.69983065e-05,  4.99977183e-05,  5.69974054e-05,\n",
       "         5.69974054e-05,  4.99977183e-05,  3.69983065e-05,\n",
       "         1.99990989e-05, -3.22650878e-25,  0.00000000e+00,\n",
       "         1.99990989e-05,  3.69983065e-05,  4.99977183e-05,\n",
       "         5.69974054e-05,  5.69974054e-05,  4.99977183e-05,\n",
       "         3.69983065e-05,  1.99990989e-05, -3.22650878e-25,\n",
       "         0.00000000e+00,  1.69992076e-05,  3.29985107e-05,\n",
       "         4.39979935e-05,  4.99977183e-05,  4.99977183e-05,\n",
       "         4.39979935e-05,  3.29985107e-05,  1.69992076e-05,\n",
       "        -2.83734420e-25,  0.00000000e+00,  1.29994118e-05,\n",
       "         2.39988946e-05,  3.29985107e-05,  3.69983065e-05,\n",
       "         3.69983065e-05,  3.29985107e-05,  2.39988946e-05,\n",
       "         1.29994118e-05, -2.10595404e-25,  0.00000000e+00,\n",
       "         6.99968705e-06,  1.29994118e-05,  1.69992076e-05,\n",
       "         1.99990989e-05,  1.99990989e-05,  1.69992076e-05,\n",
       "         1.29994118e-05,  6.99968705e-06, -1.12055474e-25,\n",
       "         0.00000000e+00, -1.12055474e-25, -2.10595404e-25,\n",
       "        -2.83734420e-25, -3.22650878e-25, -3.22650878e-25,\n",
       "        -2.83734420e-25, -2.10595404e-25, -1.12055474e-25,\n",
       "        -4.01228934e-41]])"
      ]
     },
     "execution_count": 34,
     "metadata": {},
     "output_type": "execute_result"
    }
   ],
   "source": [
    "arr"
   ]
  },
  {
   "cell_type": "code",
   "execution_count": 109,
   "metadata": {},
   "outputs": [
    {
     "data": {
      "text/plain": [
       "0.21056917433825845"
      ]
     },
     "execution_count": 109,
     "metadata": {},
     "output_type": "execute_result"
    }
   ],
   "source": [
    "from math import sin, pi\n",
    "h_x = 0.25\n",
    "\n",
    "5 / (8 * 16 * sin(pi * h_x * 0.5)**2 + 1 / 0.2)"
   ]
  },
  {
   "cell_type": "code",
   "execution_count": 90,
   "metadata": {},
   "outputs": [],
   "source": [
    "def sinfun(x, y):\n",
    "    return 0.21056917433825845 * sin(pi * x) * sin(pi * y)"
   ]
  },
  {
   "cell_type": "code",
   "execution_count": 93,
   "metadata": {},
   "outputs": [
    {
     "data": {
      "text/plain": [
       "0.10528458716912922"
      ]
     },
     "execution_count": 93,
     "metadata": {},
     "output_type": "execute_result"
    }
   ],
   "source": [
    "sinfun(0.75, 0.25)"
   ]
  },
  {
   "cell_type": "code",
   "execution_count": 25,
   "metadata": {},
   "outputs": [
    {
     "data": {
      "text/plain": [
       "0.1111111111111111"
      ]
     },
     "execution_count": 25,
     "metadata": {},
     "output_type": "execute_result"
    }
   ],
   "source": [
    "1 / 9."
   ]
  },
  {
   "cell_type": "code",
   "execution_count": 110,
   "metadata": {},
   "outputs": [],
   "source": [
    "tau = 0.2\n",
    "\n",
    "disc = 1 / (8 * 16 * sin(math.pi / 8) ** 2  + 1 / tau) "
   ]
  },
  {
   "cell_type": "code",
   "execution_count": 113,
   "metadata": {},
   "outputs": [
    {
     "data": {
      "text/plain": [
       "0.04433937718149588"
      ]
     },
     "execution_count": 113,
     "metadata": {},
     "output_type": "execute_result"
    }
   ],
   "source": [
    "disc * 5 * disc * 5"
   ]
  },
  {
   "cell_type": "code",
   "execution_count": 115,
   "metadata": {},
   "outputs": [
    {
     "data": {
      "text/plain": [
       "0.00037234730603371473"
      ]
     },
     "execution_count": 115,
     "metadata": {},
     "output_type": "execute_result"
    }
   ],
   "source": [
    "math.exp( - 2 * 0.2 * math.pi **2 * 2)"
   ]
  }
 ],
 "metadata": {
  "kernelspec": {
   "display_name": "Python 3",
   "language": "python",
   "name": "python3"
  },
  "language_info": {
   "codemirror_mode": {
    "name": "ipython",
    "version": 3
   },
   "file_extension": ".py",
   "mimetype": "text/x-python",
   "name": "python",
   "nbconvert_exporter": "python",
   "pygments_lexer": "ipython3",
   "version": "3.10.12"
  }
 },
 "nbformat": 4,
 "nbformat_minor": 2
}
